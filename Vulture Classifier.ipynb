{
 "cells": [
  {
   "cell_type": "code",
   "execution_count": 1,
   "metadata": {
    "collapsed": true,
    "deletable": true,
    "editable": true
   },
   "outputs": [],
   "source": [
    "from textblob.classifiers import NaiveBayesClassifier\n",
    "import numpy\n",
    "import json\n",
    "import nltk\n",
    "import pickle"
   ]
  },
  {
   "cell_type": "code",
   "execution_count": 2,
   "metadata": {
    "collapsed": false,
    "deletable": true,
    "editable": true
   },
   "outputs": [],
   "source": [
    "def load_obj(filename):\n",
    "    with open(filename, 'rb') as handle:\n",
    "        b = pickle.load(handle)\n",
    "        return b\n",
    "    \n",
    "data = load_obj(\"with_tags.pickle\")"
   ]
  },
  {
   "cell_type": "code",
   "execution_count": 3,
   "metadata": {
    "collapsed": false,
    "deletable": true,
    "editable": true,
    "scrolled": true
   },
   "outputs": [
    {
     "data": {
      "text/plain": [
       "5831    None\n",
       "7952    None\n",
       "4133    None\n",
       "7231    None\n",
       "6255    None\n",
       "5769    None\n",
       "3076    None\n",
       "3420    None\n",
       "860     None\n",
       "5148    None\n",
       "6924    None\n",
       "5393    None\n",
       "7663    None\n",
       "2541    None\n",
       "7583    None\n",
       "4957    None\n",
       "139     None\n",
       "4310    None\n",
       "5277    None\n",
       "7041    None\n",
       "1642    None\n",
       "1444    None\n",
       "3567    None\n",
       "4397    None\n",
       "4607    None\n",
       "7578    None\n",
       "7610    None\n",
       "4817    None\n",
       "4641    None\n",
       "8213    None\n",
       "        ... \n",
       "5394    None\n",
       "4114    None\n",
       "5637    None\n",
       "4576    None\n",
       "5667    None\n",
       "7915    None\n",
       "5925    None\n",
       "8234    None\n",
       "1621    None\n",
       "3922    None\n",
       "2210    None\n",
       "104     None\n",
       "821     None\n",
       "5718    None\n",
       "2191    None\n",
       "2775    None\n",
       "498     None\n",
       "1389    None\n",
       "8194    None\n",
       "4255    None\n",
       "946     None\n",
       "7478    None\n",
       "4662    None\n",
       "6320    None\n",
       "7848    None\n",
       "5860    None\n",
       "2743    None\n",
       "5546    None\n",
       "8077    None\n",
       "7789    None\n",
       "dtype: object"
      ]
     },
     "execution_count": 3,
     "metadata": {},
     "output_type": "execute_result"
    }
   ],
   "source": [
    "include = []\n",
    "do_not_include = []\n",
    "\n",
    "sample = data.sample(10)\n",
    "\n",
    "def categorize(to_include, vol_data):\n",
    "    if to_include:\n",
    "        include.append(vol_data)\n",
    "    else:\n",
    "        do_not_include.append(vol_data)\n",
    "\n",
    "data.apply(lambda x: categorize(x[\"to_include\"],x[\"json\"]), axis=1)"
   ]
  },
  {
   "cell_type": "code",
   "execution_count": 4,
   "metadata": {
    "collapsed": true,
    "deletable": true,
    "editable": true
   },
   "outputs": [],
   "source": [
    "count_include = len(include)\n",
    "count_do_not = len(do_not_include)\n",
    "\n",
    "training_size_i = count_include*.8*.8\n",
    "test_size_i1 = count_include*.8*.2\n",
    "test_size_i2 = count_include*.2\n",
    "\n",
    "training_size_d = count_do_not*.8\n",
    "test_size_d1 = count_include*.8*.2\n",
    "test_size_d2 = count_do_not*.2\n",
    "\n",
    "test1 = []\n",
    "test2 = []\n",
    "train = []\n",
    "\n",
    "i = 0\n",
    "while i<training_size_i:\n",
    "    train.append((include[i],\"include\"))\n",
    "    i=i+1\n",
    "while i<training_size_i+test_size_i1:\n",
    "    test1.append((include[i],\"include\"))\n",
    "    i=i+1\n",
    "while i<count_include:\n",
    "    test2.append((include[i],\"include\"))\n",
    "    i=i+1\n",
    "    \n",
    "i = 0\n",
    "while i<training_size_d:\n",
    "    train.append((do_not_include[i],\"do_not\"))\n",
    "    i=i+1\n",
    "while i<training_size_d+test_size_d1:\n",
    "    test1.append((do_not_include[i],\"do_not\"))\n",
    "    i=i+1\n",
    "while i<count_do_not:\n",
    "    test2.append((do_not_include[i],\"do_not\"))\n",
    "    i=i+1\n"
   ]
  },
  {
   "cell_type": "code",
   "execution_count": 5,
   "metadata": {
    "collapsed": false,
    "deletable": true,
    "editable": true
   },
   "outputs": [
    {
     "name": "stdout",
     "output_type": "stream",
     "text": [
      "{u'description': u\"<p>One-shot story of Jackie Dio's transformation from small time enforcer to super powered villain.</p>\", u'publisher': {u'api_detail_url': u'https://comicvine.gamespot.com/api/publisher/4010-31/', u'id': 31, u'name': u'Marvel'}, u'start_year': u'2006', u'first_issue': {u'api_detail_url': u'https://comicvine.gamespot.com/api/issue/4000-150573/', u'issue_number': u'1', u'id': 150573, u'name': u'Underworld (Part 1)'}, u'deck': None, u'image': {u'icon_url': u'https://comicvine.gamespot.com/api/image/square_avatar/685513-u1.jpg', u'medium_url': u'https://comicvine.gamespot.com/api/image/scale_medium/685513-u1.jpg', u'tiny_url': u'https://comicvine.gamespot.com/api/image/square_mini/685513-u1.jpg', u'small_url': u'https://comicvine.gamespot.com/api/image/scale_small/685513-u1.jpg', u'thumb_url': u'https://comicvine.gamespot.com/api/image/scale_avatar/685513-u1.jpg', u'screen_url': u'https://comicvine.gamespot.com/api/image/screen_medium/685513-u1.jpg', u'super_url': u'https://comicvine.gamespot.com/api/image/scale_large/685513-u1.jpg'}, u'people': [{u'api_detail_url': u'https://comicvine.gamespot.com/api/person/4040-1537/', u'count': u'5', u'site_detail_url': u'https://comicvine.gamespot.com/joe-quesada/4040-1537/', u'id': 1537, u'name': u'Joe Quesada'}, {u'api_detail_url': u'https://comicvine.gamespot.com/api/person/4040-7510/', u'count': u'5', u'site_detail_url': u'https://comicvine.gamespot.com/tom-palmer/4040-7510/', u'id': 7510, u'name': u'Tom Palmer'}, {u'api_detail_url': u'https://comicvine.gamespot.com/api/person/4040-12889/', u'count': u'5', u'site_detail_url': u'https://comicvine.gamespot.com/staz-johnson/4040-12889/', u'id': 12889, u'name': u'Staz Johnson'}, {u'api_detail_url': u'https://comicvine.gamespot.com/api/person/4040-12987/', u'count': u'5', u'site_detail_url': u'https://comicvine.gamespot.com/ian-hannin/4040-12987/', u'id': 12987, u'name': u'Ian Hannin'}, {u'api_detail_url': u'https://comicvine.gamespot.com/api/person/4040-23115/', u'count': u'5', u'site_detail_url': u'https://comicvine.gamespot.com/axel-alonso/4040-23115/', u'id': 23115, u'name': u'Axel Alonso'}, {u'api_detail_url': u'https://comicvine.gamespot.com/api/person/4040-41553/', u'count': u'5', u'site_detail_url': u'https://comicvine.gamespot.com/joe-caramagna/4040-41553/', u'id': 41553, u'name': u'Joe Caramagna'}, {u'api_detail_url': u'https://comicvine.gamespot.com/api/person/4040-43006/', u'count': u'5', u'site_detail_url': u'https://comicvine.gamespot.com/frank-tieri/4040-43006/', u'id': 43006, u'name': u'Frank Tieri'}, {u'api_detail_url': u'https://comicvine.gamespot.com/api/person/4040-50423/', u'count': u'5', u'site_detail_url': u'https://comicvine.gamespot.com/michael-oconnor/4040-50423/', u'id': 50423, u'name': u\"Michael O'Connor\"}, {u'api_detail_url': u'https://comicvine.gamespot.com/api/person/4040-41596/', u'count': u'4', u'site_detail_url': u'https://comicvine.gamespot.com/dan-buckley/4040-41596/', u'id': 41596, u'name': u'Dan Buckley'}, {u'api_detail_url': u'https://comicvine.gamespot.com/api/person/4040-46575/', u'count': u'4', u'site_detail_url': u'https://comicvine.gamespot.com/sean-scoffield/4040-46575/', u'id': 46575, u'name': u'Sean Scoffield'}], u'date_last_updated': u'2014-10-31 05:44:05', u'locations': [{u'api_detail_url': u'https://comicvine.gamespot.com/api/location/4020-41183/', u'count': u'5', u'site_detail_url': u'https://comicvine.gamespot.com/new-york-city/4020-41183/', u'id': 41183, u'name': u'New York City'}, {u'api_detail_url': u'https://comicvine.gamespot.com/api/location/4020-58362/', u'count': u'1', u'site_detail_url': u'https://comicvine.gamespot.com/the-cage/4020-58362/', u'id': 58362, u'name': u'The Cage'}], u'api_detail_url': u'https://comicvine.gamespot.com/api/volume/4050-25523/', u'objects': [{u'api_detail_url': u'https://comicvine.gamespot.com/api/object/4005-41916/', u'count': u'5', u'site_detail_url': u'https://comicvine.gamespot.com/underworld/4005-41916/', u'id': 41916, u'name': u'Underworld'}, {u'api_detail_url': u'https://comicvine.gamespot.com/api/object/4005-70859/', u'count': u'4', u'site_detail_url': u'https://comicvine.gamespot.com/mr-pain/4005-70859/', u'id': 70859, u'name': u'Mr. Pain'}, {u'api_detail_url': u'https://comicvine.gamespot.com/api/object/4005-6299/', u'count': u'3', u'site_detail_url': u'https://comicvine.gamespot.com/boomerang/4005-6299/', u'id': 6299, u'name': u'Boomerang'}, {u'api_detail_url': u'https://comicvine.gamespot.com/api/object/4005-13908/', u'count': u'3', u'site_detail_url': u'https://comicvine.gamespot.com/owl/4005-13908/', u'id': 13908, u'name': u'Owl'}, {u'api_detail_url': u'https://comicvine.gamespot.com/api/object/4005-39695/', u'count': u'3', u'site_detail_url': u'https://comicvine.gamespot.com/grizzly/4005-39695/', u'id': 39695, u'name': u'Grizzly'}, {u'api_detail_url': u'https://comicvine.gamespot.com/api/object/4005-1525/', u'count': u'2', u'site_detail_url': u'https://comicvine.gamespot.com/punisher/4005-1525/', u'id': 1525, u'name': u'Punisher'}, {u'api_detail_url': u'https://comicvine.gamespot.com/api/object/4005-13846/', u'count': u'2', u'site_detail_url': u'https://comicvine.gamespot.com/silvermane/4005-13846/', u'id': 13846, u'name': u'Silvermane'}, {u'api_detail_url': u'https://comicvine.gamespot.com/api/object/4005-1443/', u'count': u'1', u'site_detail_url': u'https://comicvine.gamespot.com/spider-man/4005-1443/', u'id': 1443, u'name': u'Spider-Man'}, {u'api_detail_url': u'https://comicvine.gamespot.com/api/object/4005-2126/', u'count': u'1', u'site_detail_url': u'https://comicvine.gamespot.com/rhino/4005-2126/', u'id': 2126, u'name': u'Rhino'}, {u'api_detail_url': u'https://comicvine.gamespot.com/api/object/4005-3161/', u'count': u'1', u'site_detail_url': u'https://comicvine.gamespot.com/tombstone/4005-3161/', u'id': 3161, u'name': u'Tombstone'}, {u'api_detail_url': u'https://comicvine.gamespot.com/api/object/4005-3228/', u'count': u'1', u'site_detail_url': u'https://comicvine.gamespot.com/electro/4005-3228/', u'id': 3228, u'name': u'Electro'}, {u'api_detail_url': u'https://comicvine.gamespot.com/api/object/4005-4328/', u'count': u'1', u'site_detail_url': u'https://comicvine.gamespot.com/trapster/4005-4328/', u'id': 4328, u'name': u'Trapster'}, {u'api_detail_url': u'https://comicvine.gamespot.com/api/object/4005-4457/', u'count': u'1', u'site_detail_url': u'https://comicvine.gamespot.com/hydro-man/4005-4457/', u'id': 4457, u'name': u'Hydro-Man'}, {u'api_detail_url': u'https://comicvine.gamespot.com/api/object/4005-4458/', u'count': u'1', u'site_detail_url': u'https://comicvine.gamespot.com/chameleon/4005-4458/', u'id': 4458, u'name': u'Chameleon'}, {u'api_detail_url': u'https://comicvine.gamespot.com/api/object/4005-4825/', u'count': u'1', u'site_detail_url': u'https://comicvine.gamespot.com/shocker/4005-4825/', u'id': 4825, u'name': u'Shocker'}, {u'api_detail_url': u'https://comicvine.gamespot.com/api/object/4005-6800/', u'count': u'1', u'site_detail_url': u'https://comicvine.gamespot.com/armadillo/4005-6800/', u'id': 6800, u'name': u'Armadillo'}, {u'api_detail_url': u'https://comicvine.gamespot.com/api/object/4005-6828/', u'count': u'1', u'site_detail_url': u'https://comicvine.gamespot.com/whirlwind/4005-6828/', u'id': 6828, u'name': u'Whirlwind'}, {u'api_detail_url': u'https://comicvine.gamespot.com/api/object/4005-13946/', u'count': u'1', u'site_detail_url': u'https://comicvine.gamespot.com/man-bull/4005-13946/', u'id': 13946, u'name': u'Man-Bull'}, {u'api_detail_url': u'https://comicvine.gamespot.com/api/object/4005-19358/', u'count': u'1', u'site_detail_url': u'https://comicvine.gamespot.com/aryan/4005-19358/', u'id': 19358, u'name': u'Aryan'}, {u'api_detail_url': u'https://comicvine.gamespot.com/api/object/4005-23687/', u'count': u'1', u'site_detail_url': u'https://comicvine.gamespot.com/gibbon/4005-23687/', u'id': 23687, u'name': u'Gibbon'}, {u'api_detail_url': u'https://comicvine.gamespot.com/api/object/4005-35695/', u'count': u'1', u'site_detail_url': u'https://comicvine.gamespot.com/midnight/4005-35695/', u'id': 35695, u'name': u'Midnight'}, {u'api_detail_url': u'https://comicvine.gamespot.com/api/object/4005-41912/', u'count': u'1', u'site_detail_url': u'https://comicvine.gamespot.com/splice/4005-41912/', u'id': 41912, u'name': u'Splice'}, {u'api_detail_url': u'https://comicvine.gamespot.com/api/object/4005-70858/', u'count': u'1', u'site_detail_url': u'https://comicvine.gamespot.com/the-consultant/4005-70858/', u'id': 70858, u'name': u'The Consultant'}], u'count_of_issues': 5, u'characters': [{u'api_detail_url': u'https://comicvine.gamespot.com/api/character/4005-41916/', u'count': u'5', u'site_detail_url': u'https://comicvine.gamespot.com/underworld/4005-41916/', u'id': 41916, u'name': u'Underworld'}, {u'api_detail_url': u'https://comicvine.gamespot.com/api/character/4005-70859/', u'count': u'4', u'site_detail_url': u'https://comicvine.gamespot.com/mr-pain/4005-70859/', u'id': 70859, u'name': u'Mr. Pain'}, {u'api_detail_url': u'https://comicvine.gamespot.com/api/character/4005-6299/', u'count': u'3', u'site_detail_url': u'https://comicvine.gamespot.com/boomerang/4005-6299/', u'id': 6299, u'name': u'Boomerang'}, {u'api_detail_url': u'https://comicvine.gamespot.com/api/character/4005-13908/', u'count': u'3', u'site_detail_url': u'https://comicvine.gamespot.com/owl/4005-13908/', u'id': 13908, u'name': u'Owl'}, {u'api_detail_url': u'https://comicvine.gamespot.com/api/character/4005-39695/', u'count': u'3', u'site_detail_url': u'https://comicvine.gamespot.com/grizzly/4005-39695/', u'id': 39695, u'name': u'Grizzly'}, {u'api_detail_url': u'https://comicvine.gamespot.com/api/character/4005-1525/', u'count': u'2', u'site_detail_url': u'https://comicvine.gamespot.com/punisher/4005-1525/', u'id': 1525, u'name': u'Punisher'}, {u'api_detail_url': u'https://comicvine.gamespot.com/api/character/4005-13846/', u'count': u'2', u'site_detail_url': u'https://comicvine.gamespot.com/silvermane/4005-13846/', u'id': 13846, u'name': u'Silvermane'}, {u'api_detail_url': u'https://comicvine.gamespot.com/api/character/4005-1443/', u'count': u'1', u'site_detail_url': u'https://comicvine.gamespot.com/spider-man/4005-1443/', u'id': 1443, u'name': u'Spider-Man'}, {u'api_detail_url': u'https://comicvine.gamespot.com/api/character/4005-2126/', u'count': u'1', u'site_detail_url': u'https://comicvine.gamespot.com/rhino/4005-2126/', u'id': 2126, u'name': u'Rhino'}, {u'api_detail_url': u'https://comicvine.gamespot.com/api/character/4005-3161/', u'count': u'1', u'site_detail_url': u'https://comicvine.gamespot.com/tombstone/4005-3161/', u'id': 3161, u'name': u'Tombstone'}, {u'api_detail_url': u'https://comicvine.gamespot.com/api/character/4005-3228/', u'count': u'1', u'site_detail_url': u'https://comicvine.gamespot.com/electro/4005-3228/', u'id': 3228, u'name': u'Electro'}, {u'api_detail_url': u'https://comicvine.gamespot.com/api/character/4005-4328/', u'count': u'1', u'site_detail_url': u'https://comicvine.gamespot.com/trapster/4005-4328/', u'id': 4328, u'name': u'Trapster'}, {u'api_detail_url': u'https://comicvine.gamespot.com/api/character/4005-4457/', u'count': u'1', u'site_detail_url': u'https://comicvine.gamespot.com/hydro-man/4005-4457/', u'id': 4457, u'name': u'Hydro-Man'}, {u'api_detail_url': u'https://comicvine.gamespot.com/api/character/4005-4458/', u'count': u'1', u'site_detail_url': u'https://comicvine.gamespot.com/chameleon/4005-4458/', u'id': 4458, u'name': u'Chameleon'}, {u'api_detail_url': u'https://comicvine.gamespot.com/api/character/4005-4825/', u'count': u'1', u'site_detail_url': u'https://comicvine.gamespot.com/shocker/4005-4825/', u'id': 4825, u'name': u'Shocker'}, {u'api_detail_url': u'https://comicvine.gamespot.com/api/character/4005-6800/', u'count': u'1', u'site_detail_url': u'https://comicvine.gamespot.com/armadillo/4005-6800/', u'id': 6800, u'name': u'Armadillo'}, {u'api_detail_url': u'https://comicvine.gamespot.com/api/character/4005-6828/', u'count': u'1', u'site_detail_url': u'https://comicvine.gamespot.com/whirlwind/4005-6828/', u'id': 6828, u'name': u'Whirlwind'}, {u'api_detail_url': u'https://comicvine.gamespot.com/api/character/4005-13946/', u'count': u'1', u'site_detail_url': u'https://comicvine.gamespot.com/man-bull/4005-13946/', u'id': 13946, u'name': u'Man-Bull'}, {u'api_detail_url': u'https://comicvine.gamespot.com/api/character/4005-19358/', u'count': u'1', u'site_detail_url': u'https://comicvine.gamespot.com/aryan/4005-19358/', u'id': 19358, u'name': u'Aryan'}, {u'api_detail_url': u'https://comicvine.gamespot.com/api/character/4005-23687/', u'count': u'1', u'site_detail_url': u'https://comicvine.gamespot.com/gibbon/4005-23687/', u'id': 23687, u'name': u'Gibbon'}, {u'api_detail_url': u'https://comicvine.gamespot.com/api/character/4005-35695/', u'count': u'1', u'site_detail_url': u'https://comicvine.gamespot.com/midnight/4005-35695/', u'id': 35695, u'name': u'Midnight'}, {u'api_detail_url': u'https://comicvine.gamespot.com/api/character/4005-41912/', u'count': u'1', u'site_detail_url': u'https://comicvine.gamespot.com/splice/4005-41912/', u'id': 41912, u'name': u'Splice'}, {u'api_detail_url': u'https://comicvine.gamespot.com/api/character/4005-70858/', u'count': u'1', u'site_detail_url': u'https://comicvine.gamespot.com/the-consultant/4005-70858/', u'id': 70858, u'name': u'The Consultant'}], u'concepts': [{u'api_detail_url': u'https://comicvine.gamespot.com/api/concept/4015-55702/', u'count': u'2', u'site_detail_url': u'https://comicvine.gamespot.com/organized-crime/4015-55702/', u'id': 55702, u'name': u'Organized Crime'}, {u'api_detail_url': u'https://comicvine.gamespot.com/api/concept/4015-55830/', u'count': u'2', u'site_detail_url': u'https://comicvine.gamespot.com/antiheroes/4015-55830/', u'id': 55830, u'name': u'Antiheroes'}], u'date_added': u'2009-01-23 15:30:08', u'last_issue': {u'api_detail_url': u'https://comicvine.gamespot.com/api/issue/4000-150577/', u'issue_number': u'5', u'id': 150577, u'name': u'Underworld (Part 5)'}, u'aliases': None, u'site_detail_url': u'https://comicvine.gamespot.com/underworld/4050-25523/', u'id': 25523, u'issues': [{u'api_detail_url': u'https://comicvine.gamespot.com/api/issue/4000-150573/', u'site_detail_url': u'https://comicvine.gamespot.com/underworld-1-underworld-part-1/4000-150573/', u'issue_number': u'1', u'id': 150573, u'name': u'Underworld (Part 1)'}, {u'api_detail_url': u'https://comicvine.gamespot.com/api/issue/4000-150574/', u'site_detail_url': u'https://comicvine.gamespot.com/underworld-2-underworld-part-2/4000-150574/', u'issue_number': u'2', u'id': 150574, u'name': u'Underworld (Part 2)'}, {u'api_detail_url': u'https://comicvine.gamespot.com/api/issue/4000-150575/', u'site_detail_url': u'https://comicvine.gamespot.com/underworld-3-underworld-part-3/4000-150575/', u'issue_number': u'3', u'id': 150575, u'name': u'Underworld (Part 3)'}, {u'api_detail_url': u'https://comicvine.gamespot.com/api/issue/4000-150576/', u'site_detail_url': u'https://comicvine.gamespot.com/underworld-4-underworld-part-4/4000-150576/', u'issue_number': u'4', u'id': 150576, u'name': u'Underworld (Part 4)'}, {u'api_detail_url': u'https://comicvine.gamespot.com/api/issue/4000-150577/', u'site_detail_url': u'https://comicvine.gamespot.com/underworld-5-underworld-part-5/4000-150577/', u'issue_number': u'5', u'id': 150577, u'name': u'Underworld (Part 5)'}], u'name': u'Underworld'}\n",
      "include\n"
     ]
    }
   ],
   "source": [
    "print test1[0][0]\n",
    "print test1[0][1]"
   ]
  },
  {
   "cell_type": "code",
   "execution_count": 6,
   "metadata": {
    "collapsed": true,
    "deletable": true,
    "editable": true
   },
   "outputs": [],
   "source": [
    "from HTMLParser import HTMLParser\n",
    "import string\n",
    "from textblob.utils import strip_punc\n",
    "\n",
    "class MLStripper(HTMLParser):\n",
    "    def __init__(self):\n",
    "        self.reset()\n",
    "        self.fed = []\n",
    "    def handle_data(self, d):\n",
    "        self.fed.append(d)\n",
    "    def get_data(self):\n",
    "        return ''.join(self.fed)\n",
    "\n",
    "def strip_tags(html):\n",
    "    s = MLStripper()\n",
    "    s.feed(html)\n",
    "    return s.get_data()\n",
    "\n",
    "def corpus_from_text(data,ls,key):\n",
    "    #print(data)\n",
    "    if data[key] is not None:        \n",
    "        desc = strip_tags(data[key]).lower()\n",
    "        desc = desc.split()\n",
    "        for word in desc:\n",
    "            word = strip_non_ascii(word)\n",
    "            word = strip_punc(word,all=True)\n",
    "            #print(word)\n",
    "            if word not in ls:\n",
    "                ls.append(word)\n",
    "    return ls\n",
    "\n",
    "def strip_non_ascii(string):\n",
    "    stripped = (c for c in string if (0 < ord(c) < 127))\n",
    "    return ''.join(stripped)\n",
    "\n",
    "def first_words(text,num):\n",
    "    ls = \"\"\n",
    "    j = 0\n",
    "    if text is not None:\n",
    "        desc = strip_tags(text).lower()\n",
    "        desc = desc.split()\n",
    "        for word in desc:\n",
    "            word = strip_non_ascii(word)\n",
    "            word = strip_punc(word,all=True)\n",
    "            #print(word)\n",
    "            ls = ls + word\n",
    "            j = j+1\n",
    "            if j == num:\n",
    "                return ls\n",
    "        return ls\n",
    "    return ls\n",
    "\n",
    "manual_desc_corpus = ['reprints','collection','collects','collected','collecting','hardcover','paperback','after','trade','as'\n",
    "                     'into','vol']\n",
    "manual_title_corpus = ['masterworks','death','without','knight','four','line','by','collection','omnibus']\n",
    "desc_corpus = manual_desc_corpus\n",
    "title_corpus = manual_title_corpus\n",
    "                \n",
    "def basic_word_extractor(data,key):\n",
    "    corpus = desc_corpus\n",
    "    if key == 'name':\n",
    "        corpus = title_corpus\n",
    "    data_words = []\n",
    "    data_words = corpus_from_text(data,data_words,key)\n",
    "    features = dict((((key+'_contains({0})').format(word), (word in data_words))\n",
    "                                            for word in corpus))\n",
    "    return features\n",
    "\n",
    "def long_desc(desc):\n",
    "    if desc is None:\n",
    "        return False\n",
    "    return len(strip_tags(desc))>=1000\n",
    "\n",
    "def volume_features(vol_data):\n",
    "    #words_in_title = words(vol_data['name'])\n",
    "    #words_in_desc = words(vol_data['name'])\n",
    "    features= {'issue_count': vol_data['count_of_issues'],\n",
    "            'start_year': int(vol_data['start_year']),\n",
    "            'early_start': int(vol_data['start_year'])<=1990,\n",
    "            'first_word': first_words(vol_data['description'],1),\n",
    "            'first_two': first_words(vol_data['description'],2),\n",
    "            'long_desc': long_desc(vol_data['description']),\n",
    "    }\n",
    "    features.update(basic_word_extractor(vol_data,\"name\"))\n",
    "    features.update(basic_word_extractor(vol_data,\"description\"))\n",
    "    return features"
   ]
  },
  {
   "cell_type": "code",
   "execution_count": 7,
   "metadata": {
    "collapsed": false,
    "deletable": true,
    "editable": true
   },
   "outputs": [],
   "source": [
    "train_feats = [(volume_features(n), category) for (n, category) in train]\n",
    "test_feats = [(volume_features(n), category) for (n, category) in test1]\n",
    "train_set = train_feats\n",
    "classifier = nltk.NaiveBayesClassifier.train(train_set)"
   ]
  },
  {
   "cell_type": "code",
   "execution_count": 8,
   "metadata": {
    "collapsed": false,
    "deletable": true,
    "editable": true,
    "scrolled": true
   },
   "outputs": [
    {
     "name": "stdout",
     "output_type": "stream",
     "text": [
      "0.970588235294\n",
      "Most Informative Features\n",
      "description_contains(reprints) = True           do_not : includ =     19.5 : 1.0\n",
      "description_contains(paperback) = True           do_not : includ =     13.8 : 1.0\n",
      "description_contains(trade) = True           do_not : includ =     11.1 : 1.0\n",
      "              first_word = u'a'           do_not : includ =      8.4 : 1.0\n",
      "description_contains(collecting) = True           do_not : includ =      7.5 : 1.0\n",
      "             issue_count = 1              do_not : includ =      3.6 : 1.0\n",
      "description_contains(collects) = True           do_not : includ =      3.2 : 1.0\n",
      "              start_year = 2010           do_not : includ =      3.2 : 1.0\n",
      "              start_year = 2009           do_not : includ =      3.1 : 1.0\n",
      "              start_year = 2014           includ : do_not =      2.6 : 1.0\n",
      "              start_year = 2015           includ : do_not =      2.6 : 1.0\n",
      "              start_year = 1995           includ : do_not =      2.6 : 1.0\n",
      "               first_two = ''             do_not : includ =      2.4 : 1.0\n",
      "              first_word = ''             do_not : includ =      2.4 : 1.0\n",
      "description_contains(trade) = False          includ : do_not =      2.2 : 1.0\n",
      "              start_year = 2007           do_not : includ =      2.1 : 1.0\n",
      "              start_year = 2003           do_not : includ =      2.1 : 1.0\n",
      "              start_year = 2013           do_not : includ =      2.0 : 1.0\n",
      "description_contains(paperback) = False          includ : do_not =      2.0 : 1.0\n",
      "             issue_count = 7              includ : do_not =      1.9 : 1.0\n",
      "              first_word = u'one'         includ : do_not =      1.8 : 1.0\n",
      "description_contains(reprints) = False          includ : do_not =      1.7 : 1.0\n",
      "             issue_count = 0              do_not : includ =      1.6 : 1.0\n",
      "              start_year = 2005           do_not : includ =      1.6 : 1.0\n",
      "              start_year = 2001           do_not : includ =      1.5 : 1.0\n",
      "              start_year = 2006           includ : do_not =      1.4 : 1.0\n",
      "description_contains(after) = False          do_not : includ =      1.4 : 1.0\n",
      "description_contains(collecting) = False          includ : do_not =      1.3 : 1.0\n",
      "description_contains(vol) = False          do_not : includ =      1.2 : 1.0\n",
      "description_contains(hardcover) = False          includ : do_not =      1.2 : 1.0\n"
     ]
    }
   ],
   "source": [
    "accuracy1 = nltk.classify.accuracy(classifier, test_feats)\n",
    "print(accuracy1)\n",
    "classifier.show_most_informative_features(30)"
   ]
  },
  {
   "cell_type": "code",
   "execution_count": 28,
   "metadata": {
    "collapsed": false,
    "deletable": true,
    "editable": true
   },
   "outputs": [
    {
     "name": "stdout",
     "output_type": "stream",
     "text": [
      "({'include': 0.782247077031058, 'do_not': 0.21775292296894316}, 'include', 'include', u'Paradise X: Heralds', u'<p>Heralds takes place between the <a data-ref-id=\"4050-9149\" href=\"/universe-x/4050-9149/\" slug=\"universe-x\">Universe X</a> and <a data-ref-id=\"4050-9547\" href=\"/paradise-x/4050-9547/\" slug=\"paradise-x\">Paradise X</a> series.</p>', u'https://comicvine.gamespot.com/paradise-x-heralds/4050-19092/')\n",
      "({'include': 0.8471828172623297, 'do_not': 0.15281718273766964}, 'include', 'include', u'All-New, All-Different Marvel Universe', u'<p>One shot guidebook.</p>', u'https://comicvine.gamespot.com/allnew-alldifferent-marvel-universe/4050-89255/')\n",
      "({'include': 0.3973265699912982, 'do_not': 0.6026734300087022}, 'do_not', 'do_not', u'Very Best of Spider-Man', u'<p>.</p>', u'https://comicvine.gamespot.com/very-best-of-spider-man/4050-27331/')\n",
      "('do_not', 'include', u'The Official Handbook of the Marvel Universe: Master Edition', u'<p>The Official Handbook of the Marvel Universe - Master Edition is an enormous thirty six issue series that serves as an encyclopedia of nearly every character in the Marvel Universe. This fourth volume takes on a modular approach with cardstock pages that are 3-hole punched, so they can be added to a binder. The art has changed as well, with a front, side, and rear view of each character instead of allocating space to multiple pictures. Each issue is a random selection of characters, featuring a mix of popular and lesser known characters from the Marvel universe.</p>', u'https://comicvine.gamespot.com/the-official-handbook-of-the-marvel-universe-maste/4050-22455/', {'include': 0.9999486904722037, 'do_not': 5.130952779541083e-05})\n",
      "1\n"
     ]
    }
   ],
   "source": [
    "from nltk.probability import FreqDist, DictionaryProbDist, ELEProbDist, sum_logs\n",
    "\n",
    "def prob_of_label(feats,cl):\n",
    "    arr = {}\n",
    "    dist = cl.prob_classify(feats)\n",
    "    for label in dist.samples():\n",
    "        row = \"%s: %f\" % (label, dist.prob(label))\n",
    "        #print(row)\n",
    "        arr[label]=dist.prob(label)\n",
    "    return arr\n",
    "\n",
    "def trunc_desc(vol):\n",
    "    if vol[\"description\"] is not None:\n",
    "        return vol[\"description\"][0:30]\n",
    "    else:\n",
    "        return \"\"\n",
    "\n",
    "errors = []\n",
    "for (vol, tag) in test1:\n",
    "    #print(vol['description'])\n",
    "    if vol[\"name\"] is not None:\n",
    "        guess = classifier.classify(volume_features(vol))\n",
    "        dist = prob_of_label(volume_features(vol),classifier)\n",
    "        if guess != tag:\n",
    "            errors.append( (tag, guess, vol[\"name\"], vol['description'],vol['site_detail_url'], dist) )\n",
    "        if ((dist['include']<.9) & (dist['include']>.1)):\n",
    "            print (dist, tag, guess, vol[\"name\"], vol['description'],vol['site_detail_url'])\n",
    "        \n",
    "i = 0\n",
    "for item in errors:\n",
    "    print(item)\n",
    "    i = i+1\n",
    "    \n",
    "print i"
   ]
  },
  {
   "cell_type": "code",
   "execution_count": null,
   "metadata": {
    "collapsed": true,
    "deletable": true,
    "editable": true
   },
   "outputs": [],
   "source": []
  }
 ],
 "metadata": {
  "kernelspec": {
   "display_name": "Python 2",
   "language": "python",
   "name": "python2"
  },
  "language_info": {
   "codemirror_mode": {
    "name": "ipython",
    "version": 2
   },
   "file_extension": ".py",
   "mimetype": "text/x-python",
   "name": "python",
   "nbconvert_exporter": "python",
   "pygments_lexer": "ipython2",
   "version": "2.7.13"
  }
 },
 "nbformat": 4,
 "nbformat_minor": 2
}
